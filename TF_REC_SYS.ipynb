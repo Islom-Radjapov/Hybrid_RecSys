{
 "cells": [
  {
   "cell_type": "code",
   "execution_count": 1,
   "metadata": {
    "collapsed": true
   },
   "outputs": [],
   "source": [
    "import tensorflow as tf\n",
    "import tensorflow_datasets as tfds\n",
    "import pandas as pd"
   ]
  },
  {
   "cell_type": "code",
   "execution_count": 2,
   "outputs": [
    {
     "ename": "ValueError",
     "evalue": "Parsing builder name string ratings.csv failed.\nThe builder name string must be of the following format:\n  dataset_name[/config_name][:version][/kwargs]\n\n  Where:\n\n    * dataset_name and config_name are string following python variable naming.\n    * version is of the form x.y.z where {x,y,z} can be any digit or *.\n    * kwargs is a comma list separated of arguments and values to pass to\n      builder.\n\n  Examples:\n    my_dataset\n    my_dataset:1.2.*\n    my_dataset/config1\n    my_dataset/config1:1.*.*\n    my_dataset/config1/arg1=val1,arg2=val2\n    my_dataset/config1:1.2.3/right=True,foo=bar,rate=1.2\n",
     "output_type": "error",
     "traceback": [
      "\u001B[1;31m---------------------------------------------------------------------------\u001B[0m",
      "\u001B[1;31mValueError\u001B[0m                                Traceback (most recent call last)",
      "Cell \u001B[1;32mIn[2], line 1\u001B[0m\n\u001B[1;32m----> 1\u001B[0m ratings \u001B[38;5;241m=\u001B[39m \u001B[43mtfds\u001B[49m\u001B[38;5;241;43m.\u001B[39;49m\u001B[43mload\u001B[49m\u001B[43m(\u001B[49m\u001B[38;5;124;43m\"\u001B[39;49m\u001B[38;5;124;43mratings.csv\u001B[39;49m\u001B[38;5;124;43m\"\u001B[39;49m\u001B[43m)\u001B[49m\n",
      "File \u001B[1;32m~\\PycharmProjects\\Hybrid_RecSys\\venv\\lib\\site-packages\\tensorflow_datasets\\core\\logging\\__init__.py:273\u001B[0m, in \u001B[0;36mload.<locals>.decorator\u001B[1;34m(function, unused_none_instance, args, kwargs)\u001B[0m\n\u001B[0;32m    271\u001B[0m name \u001B[38;5;241m=\u001B[39m args[\u001B[38;5;241m0\u001B[39m] \u001B[38;5;28;01mif\u001B[39;00m args \u001B[38;5;28;01melse\u001B[39;00m kwargs[\u001B[38;5;124m\"\u001B[39m\u001B[38;5;124mname\u001B[39m\u001B[38;5;124m\"\u001B[39m]\n\u001B[0;32m    272\u001B[0m \u001B[38;5;28;01mtry\u001B[39;00m:\n\u001B[1;32m--> 273\u001B[0m   \u001B[38;5;28;01mreturn\u001B[39;00m function(\u001B[38;5;241m*\u001B[39margs, \u001B[38;5;241m*\u001B[39m\u001B[38;5;241m*\u001B[39mkwargs)\n\u001B[0;32m    274\u001B[0m \u001B[38;5;28;01mexcept\u001B[39;00m \u001B[38;5;167;01mException\u001B[39;00m:\n\u001B[0;32m    275\u001B[0m   metadata\u001B[38;5;241m.\u001B[39mmark_error()\n",
      "File \u001B[1;32m~\\PycharmProjects\\Hybrid_RecSys\\venv\\lib\\site-packages\\tensorflow_datasets\\core\\load.py:595\u001B[0m, in \u001B[0;36mload\u001B[1;34m(name, split, data_dir, batch_size, shuffle_files, download, as_supervised, decoders, read_config, with_info, builder_kwargs, download_and_prepare_kwargs, as_dataset_kwargs, try_gcs)\u001B[0m\n\u001B[0;32m    592\u001B[0m \u001B[38;5;28;01mif\u001B[39;00m builder_kwargs \u001B[38;5;129;01mis\u001B[39;00m \u001B[38;5;28;01mNone\u001B[39;00m:\n\u001B[0;32m    593\u001B[0m   builder_kwargs \u001B[38;5;241m=\u001B[39m {}\n\u001B[1;32m--> 595\u001B[0m dbuilder \u001B[38;5;241m=\u001B[39m builder(name, data_dir\u001B[38;5;241m=\u001B[39mdata_dir, try_gcs\u001B[38;5;241m=\u001B[39mtry_gcs, \u001B[38;5;241m*\u001B[39m\u001B[38;5;241m*\u001B[39mbuilder_kwargs)\n\u001B[0;32m    596\u001B[0m \u001B[38;5;28;01mif\u001B[39;00m download:\n\u001B[0;32m    597\u001B[0m   download_and_prepare_kwargs \u001B[38;5;241m=\u001B[39m download_and_prepare_kwargs \u001B[38;5;129;01mor\u001B[39;00m {}\n",
      "File \u001B[1;32m~\\AppData\\Local\\Programs\\Python\\Python310\\lib\\contextlib.py:79\u001B[0m, in \u001B[0;36mContextDecorator.__call__.<locals>.inner\u001B[1;34m(*args, **kwds)\u001B[0m\n\u001B[0;32m     76\u001B[0m \u001B[38;5;129m@wraps\u001B[39m(func)\n\u001B[0;32m     77\u001B[0m \u001B[38;5;28;01mdef\u001B[39;00m \u001B[38;5;21minner\u001B[39m(\u001B[38;5;241m*\u001B[39margs, \u001B[38;5;241m*\u001B[39m\u001B[38;5;241m*\u001B[39mkwds):\n\u001B[0;32m     78\u001B[0m     \u001B[38;5;28;01mwith\u001B[39;00m \u001B[38;5;28mself\u001B[39m\u001B[38;5;241m.\u001B[39m_recreate_cm():\n\u001B[1;32m---> 79\u001B[0m         \u001B[38;5;28;01mreturn\u001B[39;00m func(\u001B[38;5;241m*\u001B[39margs, \u001B[38;5;241m*\u001B[39m\u001B[38;5;241m*\u001B[39mkwds)\n",
      "File \u001B[1;32m~\\PycharmProjects\\Hybrid_RecSys\\venv\\lib\\site-packages\\tensorflow_datasets\\core\\logging\\__init__.py:306\u001B[0m, in \u001B[0;36mbuilder.<locals>.decorator\u001B[1;34m(function, unused_none_instance, args, kwargs)\u001B[0m\n\u001B[0;32m    304\u001B[0m name \u001B[38;5;241m=\u001B[39m args[\u001B[38;5;241m0\u001B[39m] \u001B[38;5;28;01mif\u001B[39;00m args \u001B[38;5;28;01melse\u001B[39;00m kwargs[\u001B[38;5;124m\"\u001B[39m\u001B[38;5;124mname\u001B[39m\u001B[38;5;124m\"\u001B[39m]\n\u001B[0;32m    305\u001B[0m \u001B[38;5;28;01mtry\u001B[39;00m:\n\u001B[1;32m--> 306\u001B[0m   \u001B[38;5;28;01mreturn\u001B[39;00m function(\u001B[38;5;241m*\u001B[39margs, \u001B[38;5;241m*\u001B[39m\u001B[38;5;241m*\u001B[39mkwargs)\n\u001B[0;32m    307\u001B[0m \u001B[38;5;28;01mexcept\u001B[39;00m \u001B[38;5;167;01mException\u001B[39;00m:\n\u001B[0;32m    308\u001B[0m   metadata\u001B[38;5;241m.\u001B[39mmark_error()\n",
      "File \u001B[1;32m~\\PycharmProjects\\Hybrid_RecSys\\venv\\lib\\site-packages\\tensorflow_datasets\\core\\load.py:165\u001B[0m, in \u001B[0;36mbuilder\u001B[1;34m(name, try_gcs, **builder_kwargs)\u001B[0m\n\u001B[0;32m    131\u001B[0m \u001B[38;5;124;03m\"\"\"Fetches a `tfds.core.DatasetBuilder` by string name.\u001B[39;00m\n\u001B[0;32m    132\u001B[0m \n\u001B[0;32m    133\u001B[0m \u001B[38;5;124;03mArgs:\u001B[39;00m\n\u001B[1;32m   (...)\u001B[0m\n\u001B[0;32m    160\u001B[0m \u001B[38;5;124;03m  DatasetNotFoundError: if `name` is unrecognized.\u001B[39;00m\n\u001B[0;32m    161\u001B[0m \u001B[38;5;124;03m\"\"\"\u001B[39;00m\n\u001B[0;32m    162\u001B[0m \u001B[38;5;66;03m# 'kaggle:my_ds/config:1.0.0' -> (\u001B[39;00m\n\u001B[0;32m    163\u001B[0m \u001B[38;5;66;03m#     DatasetName('kaggle:my_ds'), {'version': '1.0.0', 'config': 'conf0'}\u001B[39;00m\n\u001B[0;32m    164\u001B[0m \u001B[38;5;66;03m# )\u001B[39;00m\n\u001B[1;32m--> 165\u001B[0m name, builder_kwargs \u001B[38;5;241m=\u001B[39m naming\u001B[38;5;241m.\u001B[39mparse_builder_name_kwargs(\n\u001B[0;32m    166\u001B[0m     name, \u001B[38;5;241m*\u001B[39m\u001B[38;5;241m*\u001B[39mbuilder_kwargs)\n\u001B[0;32m    168\u001B[0m \u001B[38;5;66;03m# `try_gcs` currently only supports non-community datasets\u001B[39;00m\n\u001B[0;32m    169\u001B[0m \u001B[38;5;28;01mif\u001B[39;00m (try_gcs \u001B[38;5;129;01mand\u001B[39;00m \u001B[38;5;129;01mnot\u001B[39;00m name\u001B[38;5;241m.\u001B[39mnamespace \u001B[38;5;129;01mand\u001B[39;00m\n\u001B[0;32m    170\u001B[0m     gcs_utils\u001B[38;5;241m.\u001B[39mis_dataset_on_gcs(\u001B[38;5;28mstr\u001B[39m(name))):\n",
      "File \u001B[1;32m~\\PycharmProjects\\Hybrid_RecSys\\venv\\lib\\site-packages\\tensorflow_datasets\\core\\naming.py:137\u001B[0m, in \u001B[0;36mparse_builder_name_kwargs\u001B[1;34m(name, **builder_kwargs)\u001B[0m\n\u001B[0;32m    112\u001B[0m \u001B[38;5;28;01mdef\u001B[39;00m \u001B[38;5;21mparse_builder_name_kwargs\u001B[39m(\n\u001B[0;32m    113\u001B[0m     name: \u001B[38;5;28mstr\u001B[39m,\n\u001B[0;32m    114\u001B[0m     \u001B[38;5;241m*\u001B[39m\u001B[38;5;241m*\u001B[39mbuilder_kwargs: Any,\n\u001B[0;32m    115\u001B[0m ) \u001B[38;5;241m-\u001B[39m\u001B[38;5;241m>\u001B[39m Tuple[DatasetName, Dict[\u001B[38;5;28mstr\u001B[39m, Any]]:\n\u001B[0;32m    116\u001B[0m   \u001B[38;5;124;03m\"\"\"Normalize builder kwargs.\u001B[39;00m\n\u001B[0;32m    117\u001B[0m \n\u001B[0;32m    118\u001B[0m \u001B[38;5;124;03m  Example:\u001B[39;00m\n\u001B[1;32m   (...)\u001B[0m\n\u001B[0;32m    135\u001B[0m \u001B[38;5;124;03m    builder_kwargs: Builder kwargs (version, config, data_dir,...)\u001B[39;00m\n\u001B[0;32m    136\u001B[0m \u001B[38;5;124;03m  \"\"\"\u001B[39;00m\n\u001B[1;32m--> 137\u001B[0m   name, parsed_builder_kwargs \u001B[38;5;241m=\u001B[39m \u001B[43m_dataset_name_and_kwargs_from_name_str\u001B[49m\u001B[43m(\u001B[49m\u001B[43mname\u001B[49m\u001B[43m)\u001B[49m\n\u001B[0;32m    138\u001B[0m   builder_kwargs \u001B[38;5;241m=\u001B[39m \u001B[38;5;28mdict\u001B[39m(\u001B[38;5;241m*\u001B[39m\u001B[38;5;241m*\u001B[39mparsed_builder_kwargs, \u001B[38;5;241m*\u001B[39m\u001B[38;5;241m*\u001B[39mbuilder_kwargs)\n\u001B[0;32m    139\u001B[0m   \u001B[38;5;28;01mreturn\u001B[39;00m DatasetName(name), builder_kwargs\n",
      "File \u001B[1;32m~\\PycharmProjects\\Hybrid_RecSys\\venv\\lib\\site-packages\\tensorflow_datasets\\core\\naming.py:168\u001B[0m, in \u001B[0;36m_dataset_name_and_kwargs_from_name_str\u001B[1;34m(name_str)\u001B[0m\n\u001B[0;32m    166\u001B[0m res \u001B[38;5;241m=\u001B[39m _NAME_REG\u001B[38;5;241m.\u001B[39mmatch(name_str)\n\u001B[0;32m    167\u001B[0m \u001B[38;5;28;01mif\u001B[39;00m \u001B[38;5;129;01mnot\u001B[39;00m res:\n\u001B[1;32m--> 168\u001B[0m   \u001B[38;5;28;01mraise\u001B[39;00m \u001B[38;5;167;01mValueError\u001B[39;00m(err_msg)\n\u001B[0;32m    169\u001B[0m name \u001B[38;5;241m=\u001B[39m res\u001B[38;5;241m.\u001B[39mgroup(\u001B[38;5;124m'\u001B[39m\u001B[38;5;124mdataset_name\u001B[39m\u001B[38;5;124m'\u001B[39m)\n\u001B[0;32m    170\u001B[0m \u001B[38;5;66;03m# Normalize the name to accept CamelCase\u001B[39;00m\n",
      "\u001B[1;31mValueError\u001B[0m: Parsing builder name string ratings.csv failed.\nThe builder name string must be of the following format:\n  dataset_name[/config_name][:version][/kwargs]\n\n  Where:\n\n    * dataset_name and config_name are string following python variable naming.\n    * version is of the form x.y.z where {x,y,z} can be any digit or *.\n    * kwargs is a comma list separated of arguments and values to pass to\n      builder.\n\n  Examples:\n    my_dataset\n    my_dataset:1.2.*\n    my_dataset/config1\n    my_dataset/config1:1.*.*\n    my_dataset/config1/arg1=val1,arg2=val2\n    my_dataset/config1:1.2.3/right=True,foo=bar,rate=1.2\n"
     ]
    }
   ],
   "source": [
    "ratings = tfds.load(\"ratings.csv\")"
   ],
   "metadata": {
    "collapsed": false
   }
  },
  {
   "cell_type": "code",
   "execution_count": 14,
   "outputs": [
    {
     "ename": "NameError",
     "evalue": "name 'ratings' is not defined",
     "output_type": "error",
     "traceback": [
      "\u001B[1;31m---------------------------------------------------------------------------\u001B[0m",
      "\u001B[1;31mNameError\u001B[0m                                 Traceback (most recent call last)",
      "Cell \u001B[1;32mIn[14], line 1\u001B[0m\n\u001B[1;32m----> 1\u001B[0m \u001B[38;5;28;01mfor\u001B[39;00m x \u001B[38;5;129;01min\u001B[39;00m \u001B[43mratings\u001B[49m\u001B[38;5;241m.\u001B[39mtake(\u001B[38;5;241m1\u001B[39m)\u001B[38;5;241m.\u001B[39mas_numpy_iterator():\n\u001B[0;32m      2\u001B[0m     \u001B[38;5;28mprint\u001B[39m(x)\n",
      "\u001B[1;31mNameError\u001B[0m: name 'ratings' is not defined"
     ]
    }
   ],
   "source": [
    "for x in ratings.take(1).as_numpy_iterator():\n",
    "    print(x)"
   ],
   "metadata": {
    "collapsed": false
   }
  },
  {
   "cell_type": "code",
   "execution_count": null,
   "outputs": [],
   "source": [],
   "metadata": {
    "collapsed": false
   }
  }
 ],
 "metadata": {
  "kernelspec": {
   "display_name": "Python 3",
   "language": "python",
   "name": "python3"
  },
  "language_info": {
   "codemirror_mode": {
    "name": "ipython",
    "version": 2
   },
   "file_extension": ".py",
   "mimetype": "text/x-python",
   "name": "python",
   "nbconvert_exporter": "python",
   "pygments_lexer": "ipython2",
   "version": "2.7.6"
  }
 },
 "nbformat": 4,
 "nbformat_minor": 0
}
