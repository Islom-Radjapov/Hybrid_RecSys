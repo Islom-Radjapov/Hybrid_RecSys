{
 "cells": [
  {
   "cell_type": "code",
   "execution_count": 1,
   "metadata": {
    "collapsed": true
   },
   "outputs": [],
   "source": [
    "import pandas as pd"
   ]
  },
  {
   "cell_type": "code",
   "execution_count": 2,
   "outputs": [
    {
     "name": "stderr",
     "output_type": "stream",
     "text": [
      "C:\\Users\\islom\\AppData\\Local\\Temp\\ipykernel_10308\\2727046261.py:1: FutureWarning: The error_bad_lines argument has been deprecated and will be removed in a future version. Use on_bad_lines in the future.\n",
      "\n",
      "\n",
      "  df = pd.read_csv(r'books_data\\books.csv',error_bad_lines=False,encoding='latin-1',sep=';')\n",
      "Skipping line 6452: expected 8 fields, saw 9\n",
      "Skipping line 43667: expected 8 fields, saw 10\n",
      "Skipping line 51751: expected 8 fields, saw 9\n",
      "\n",
      "Skipping line 92038: expected 8 fields, saw 9\n",
      "Skipping line 104319: expected 8 fields, saw 9\n",
      "Skipping line 121768: expected 8 fields, saw 9\n",
      "\n",
      "Skipping line 144058: expected 8 fields, saw 9\n",
      "Skipping line 150789: expected 8 fields, saw 9\n",
      "Skipping line 157128: expected 8 fields, saw 9\n",
      "Skipping line 180189: expected 8 fields, saw 9\n",
      "Skipping line 185738: expected 8 fields, saw 9\n",
      "\n",
      "Skipping line 209388: expected 8 fields, saw 9\n",
      "Skipping line 220626: expected 8 fields, saw 9\n",
      "Skipping line 227933: expected 8 fields, saw 11\n",
      "Skipping line 228957: expected 8 fields, saw 10\n",
      "Skipping line 245933: expected 8 fields, saw 9\n",
      "Skipping line 251296: expected 8 fields, saw 9\n",
      "Skipping line 259941: expected 8 fields, saw 9\n",
      "Skipping line 261529: expected 8 fields, saw 9\n",
      "\n",
      "C:\\Users\\islom\\AppData\\Local\\Temp\\ipykernel_10308\\2727046261.py:1: DtypeWarning: Columns (3) have mixed types. Specify dtype option on import or set low_memory=False.\n",
      "  df = pd.read_csv(r'books_data\\books.csv',error_bad_lines=False,encoding='latin-1',sep=';')\n"
     ]
    },
    {
     "data": {
      "text/plain": "         ISBN                                         Book-Title  \\\n0  0195153448                                Classical Mythology   \n1  0002005018                                       Clara Callan   \n2  0060973129                               Decision in Normandy   \n3  0374157065  Flu: The Story of the Great Influenza Pandemic...   \n4  0393045218                             The Mummies of Urumchi   \n\n            Book-Author Year-Of-Publication                   Publisher  \\\n0    Mark P. O. Morford                2002     Oxford University Press   \n1  Richard Bruce Wright                2001       HarperFlamingo Canada   \n2          Carlo D'Este                1991             HarperPerennial   \n3      Gina Bari Kolata                1999        Farrar Straus Giroux   \n4       E. J. W. Barber                1999  W. W. Norton &amp; Company   \n\n                                         Image-URL-S  \\\n0  http://images.amazon.com/images/P/0195153448.0...   \n1  http://images.amazon.com/images/P/0002005018.0...   \n2  http://images.amazon.com/images/P/0060973129.0...   \n3  http://images.amazon.com/images/P/0374157065.0...   \n4  http://images.amazon.com/images/P/0393045218.0...   \n\n                                         Image-URL-M  \\\n0  http://images.amazon.com/images/P/0195153448.0...   \n1  http://images.amazon.com/images/P/0002005018.0...   \n2  http://images.amazon.com/images/P/0060973129.0...   \n3  http://images.amazon.com/images/P/0374157065.0...   \n4  http://images.amazon.com/images/P/0393045218.0...   \n\n                                         Image-URL-L  \n0  http://images.amazon.com/images/P/0195153448.0...  \n1  http://images.amazon.com/images/P/0002005018.0...  \n2  http://images.amazon.com/images/P/0060973129.0...  \n3  http://images.amazon.com/images/P/0374157065.0...  \n4  http://images.amazon.com/images/P/0393045218.0...  ",
      "text/html": "<div>\n<style scoped>\n    .dataframe tbody tr th:only-of-type {\n        vertical-align: middle;\n    }\n\n    .dataframe tbody tr th {\n        vertical-align: top;\n    }\n\n    .dataframe thead th {\n        text-align: right;\n    }\n</style>\n<table border=\"1\" class=\"dataframe\">\n  <thead>\n    <tr style=\"text-align: right;\">\n      <th></th>\n      <th>ISBN</th>\n      <th>Book-Title</th>\n      <th>Book-Author</th>\n      <th>Year-Of-Publication</th>\n      <th>Publisher</th>\n      <th>Image-URL-S</th>\n      <th>Image-URL-M</th>\n      <th>Image-URL-L</th>\n    </tr>\n  </thead>\n  <tbody>\n    <tr>\n      <th>0</th>\n      <td>0195153448</td>\n      <td>Classical Mythology</td>\n      <td>Mark P. O. Morford</td>\n      <td>2002</td>\n      <td>Oxford University Press</td>\n      <td>http://images.amazon.com/images/P/0195153448.0...</td>\n      <td>http://images.amazon.com/images/P/0195153448.0...</td>\n      <td>http://images.amazon.com/images/P/0195153448.0...</td>\n    </tr>\n    <tr>\n      <th>1</th>\n      <td>0002005018</td>\n      <td>Clara Callan</td>\n      <td>Richard Bruce Wright</td>\n      <td>2001</td>\n      <td>HarperFlamingo Canada</td>\n      <td>http://images.amazon.com/images/P/0002005018.0...</td>\n      <td>http://images.amazon.com/images/P/0002005018.0...</td>\n      <td>http://images.amazon.com/images/P/0002005018.0...</td>\n    </tr>\n    <tr>\n      <th>2</th>\n      <td>0060973129</td>\n      <td>Decision in Normandy</td>\n      <td>Carlo D'Este</td>\n      <td>1991</td>\n      <td>HarperPerennial</td>\n      <td>http://images.amazon.com/images/P/0060973129.0...</td>\n      <td>http://images.amazon.com/images/P/0060973129.0...</td>\n      <td>http://images.amazon.com/images/P/0060973129.0...</td>\n    </tr>\n    <tr>\n      <th>3</th>\n      <td>0374157065</td>\n      <td>Flu: The Story of the Great Influenza Pandemic...</td>\n      <td>Gina Bari Kolata</td>\n      <td>1999</td>\n      <td>Farrar Straus Giroux</td>\n      <td>http://images.amazon.com/images/P/0374157065.0...</td>\n      <td>http://images.amazon.com/images/P/0374157065.0...</td>\n      <td>http://images.amazon.com/images/P/0374157065.0...</td>\n    </tr>\n    <tr>\n      <th>4</th>\n      <td>0393045218</td>\n      <td>The Mummies of Urumchi</td>\n      <td>E. J. W. Barber</td>\n      <td>1999</td>\n      <td>W. W. Norton &amp;amp; Company</td>\n      <td>http://images.amazon.com/images/P/0393045218.0...</td>\n      <td>http://images.amazon.com/images/P/0393045218.0...</td>\n      <td>http://images.amazon.com/images/P/0393045218.0...</td>\n    </tr>\n  </tbody>\n</table>\n</div>"
     },
     "execution_count": 2,
     "metadata": {},
     "output_type": "execute_result"
    }
   ],
   "source": [
    "df = pd.read_csv(r'books_data\\books.csv',error_bad_lines=False,encoding='latin-1',sep=';')\n",
    "df.head()"
   ],
   "metadata": {
    "collapsed": false
   }
  },
  {
   "cell_type": "code",
   "execution_count": 3,
   "outputs": [
    {
     "data": {
      "text/plain": "              ISBN                                         Book-Title  \\\n0       0195153448                                Classical Mythology   \n1       0002005018                                       Clara Callan   \n2       0060973129                               Decision in Normandy   \n3       0374157065  Flu: The Story of the Great Influenza Pandemic...   \n4       0393045218                             The Mummies of Urumchi   \n...            ...                                                ...   \n271355  0440400988                         There's a Bat in Bunk Five   \n271356  0525447644                            From One to One Hundred   \n271357  006008667X  Lily Dale : The True Story of the Town that Ta...   \n271358  0192126040                        Republic (World's Classics)   \n271359  0767409752  A Guided Tour of Rene Descartes' Meditations o...   \n\n                 Book-Author Year-Of-Publication  \\\n0         Mark P. O. Morford                2002   \n1       Richard Bruce Wright                2001   \n2               Carlo D'Este                1991   \n3           Gina Bari Kolata                1999   \n4            E. J. W. Barber                1999   \n...                      ...                 ...   \n271355        Paula Danziger                1988   \n271356            Teri Sloat                1991   \n271357      Christine Wicker                2004   \n271358                 Plato                1996   \n271359   Christopher  Biffle                2000   \n\n                                               Publisher  \\\n0                                Oxford University Press   \n1                                  HarperFlamingo Canada   \n2                                        HarperPerennial   \n3                                   Farrar Straus Giroux   \n4                             W. W. Norton &amp; Company   \n...                                                  ...   \n271355                   Random House Childrens Pub (Mm)   \n271356                                      Dutton Books   \n271357                                HarperSanFrancisco   \n271358                           Oxford University Press   \n271359  McGraw-Hill Humanities/Social Sciences/Languages   \n\n                                              Image-URL-S  \\\n0       http://images.amazon.com/images/P/0195153448.0...   \n1       http://images.amazon.com/images/P/0002005018.0...   \n2       http://images.amazon.com/images/P/0060973129.0...   \n3       http://images.amazon.com/images/P/0374157065.0...   \n4       http://images.amazon.com/images/P/0393045218.0...   \n...                                                   ...   \n271355  http://images.amazon.com/images/P/0440400988.0...   \n271356  http://images.amazon.com/images/P/0525447644.0...   \n271357  http://images.amazon.com/images/P/006008667X.0...   \n271358  http://images.amazon.com/images/P/0192126040.0...   \n271359  http://images.amazon.com/images/P/0767409752.0...   \n\n                                              Image-URL-M  \\\n0       http://images.amazon.com/images/P/0195153448.0...   \n1       http://images.amazon.com/images/P/0002005018.0...   \n2       http://images.amazon.com/images/P/0060973129.0...   \n3       http://images.amazon.com/images/P/0374157065.0...   \n4       http://images.amazon.com/images/P/0393045218.0...   \n...                                                   ...   \n271355  http://images.amazon.com/images/P/0440400988.0...   \n271356  http://images.amazon.com/images/P/0525447644.0...   \n271357  http://images.amazon.com/images/P/006008667X.0...   \n271358  http://images.amazon.com/images/P/0192126040.0...   \n271359  http://images.amazon.com/images/P/0767409752.0...   \n\n                                              Image-URL-L  \n0       http://images.amazon.com/images/P/0195153448.0...  \n1       http://images.amazon.com/images/P/0002005018.0...  \n2       http://images.amazon.com/images/P/0060973129.0...  \n3       http://images.amazon.com/images/P/0374157065.0...  \n4       http://images.amazon.com/images/P/0393045218.0...  \n...                                                   ...  \n271355  http://images.amazon.com/images/P/0440400988.0...  \n271356  http://images.amazon.com/images/P/0525447644.0...  \n271357  http://images.amazon.com/images/P/006008667X.0...  \n271358  http://images.amazon.com/images/P/0192126040.0...  \n271359  http://images.amazon.com/images/P/0767409752.0...  \n\n[271360 rows x 8 columns]",
      "text/html": "<div>\n<style scoped>\n    .dataframe tbody tr th:only-of-type {\n        vertical-align: middle;\n    }\n\n    .dataframe tbody tr th {\n        vertical-align: top;\n    }\n\n    .dataframe thead th {\n        text-align: right;\n    }\n</style>\n<table border=\"1\" class=\"dataframe\">\n  <thead>\n    <tr style=\"text-align: right;\">\n      <th></th>\n      <th>ISBN</th>\n      <th>Book-Title</th>\n      <th>Book-Author</th>\n      <th>Year-Of-Publication</th>\n      <th>Publisher</th>\n      <th>Image-URL-S</th>\n      <th>Image-URL-M</th>\n      <th>Image-URL-L</th>\n    </tr>\n  </thead>\n  <tbody>\n    <tr>\n      <th>0</th>\n      <td>0195153448</td>\n      <td>Classical Mythology</td>\n      <td>Mark P. O. Morford</td>\n      <td>2002</td>\n      <td>Oxford University Press</td>\n      <td>http://images.amazon.com/images/P/0195153448.0...</td>\n      <td>http://images.amazon.com/images/P/0195153448.0...</td>\n      <td>http://images.amazon.com/images/P/0195153448.0...</td>\n    </tr>\n    <tr>\n      <th>1</th>\n      <td>0002005018</td>\n      <td>Clara Callan</td>\n      <td>Richard Bruce Wright</td>\n      <td>2001</td>\n      <td>HarperFlamingo Canada</td>\n      <td>http://images.amazon.com/images/P/0002005018.0...</td>\n      <td>http://images.amazon.com/images/P/0002005018.0...</td>\n      <td>http://images.amazon.com/images/P/0002005018.0...</td>\n    </tr>\n    <tr>\n      <th>2</th>\n      <td>0060973129</td>\n      <td>Decision in Normandy</td>\n      <td>Carlo D'Este</td>\n      <td>1991</td>\n      <td>HarperPerennial</td>\n      <td>http://images.amazon.com/images/P/0060973129.0...</td>\n      <td>http://images.amazon.com/images/P/0060973129.0...</td>\n      <td>http://images.amazon.com/images/P/0060973129.0...</td>\n    </tr>\n    <tr>\n      <th>3</th>\n      <td>0374157065</td>\n      <td>Flu: The Story of the Great Influenza Pandemic...</td>\n      <td>Gina Bari Kolata</td>\n      <td>1999</td>\n      <td>Farrar Straus Giroux</td>\n      <td>http://images.amazon.com/images/P/0374157065.0...</td>\n      <td>http://images.amazon.com/images/P/0374157065.0...</td>\n      <td>http://images.amazon.com/images/P/0374157065.0...</td>\n    </tr>\n    <tr>\n      <th>4</th>\n      <td>0393045218</td>\n      <td>The Mummies of Urumchi</td>\n      <td>E. J. W. Barber</td>\n      <td>1999</td>\n      <td>W. W. Norton &amp;amp; Company</td>\n      <td>http://images.amazon.com/images/P/0393045218.0...</td>\n      <td>http://images.amazon.com/images/P/0393045218.0...</td>\n      <td>http://images.amazon.com/images/P/0393045218.0...</td>\n    </tr>\n    <tr>\n      <th>...</th>\n      <td>...</td>\n      <td>...</td>\n      <td>...</td>\n      <td>...</td>\n      <td>...</td>\n      <td>...</td>\n      <td>...</td>\n      <td>...</td>\n    </tr>\n    <tr>\n      <th>271355</th>\n      <td>0440400988</td>\n      <td>There's a Bat in Bunk Five</td>\n      <td>Paula Danziger</td>\n      <td>1988</td>\n      <td>Random House Childrens Pub (Mm)</td>\n      <td>http://images.amazon.com/images/P/0440400988.0...</td>\n      <td>http://images.amazon.com/images/P/0440400988.0...</td>\n      <td>http://images.amazon.com/images/P/0440400988.0...</td>\n    </tr>\n    <tr>\n      <th>271356</th>\n      <td>0525447644</td>\n      <td>From One to One Hundred</td>\n      <td>Teri Sloat</td>\n      <td>1991</td>\n      <td>Dutton Books</td>\n      <td>http://images.amazon.com/images/P/0525447644.0...</td>\n      <td>http://images.amazon.com/images/P/0525447644.0...</td>\n      <td>http://images.amazon.com/images/P/0525447644.0...</td>\n    </tr>\n    <tr>\n      <th>271357</th>\n      <td>006008667X</td>\n      <td>Lily Dale : The True Story of the Town that Ta...</td>\n      <td>Christine Wicker</td>\n      <td>2004</td>\n      <td>HarperSanFrancisco</td>\n      <td>http://images.amazon.com/images/P/006008667X.0...</td>\n      <td>http://images.amazon.com/images/P/006008667X.0...</td>\n      <td>http://images.amazon.com/images/P/006008667X.0...</td>\n    </tr>\n    <tr>\n      <th>271358</th>\n      <td>0192126040</td>\n      <td>Republic (World's Classics)</td>\n      <td>Plato</td>\n      <td>1996</td>\n      <td>Oxford University Press</td>\n      <td>http://images.amazon.com/images/P/0192126040.0...</td>\n      <td>http://images.amazon.com/images/P/0192126040.0...</td>\n      <td>http://images.amazon.com/images/P/0192126040.0...</td>\n    </tr>\n    <tr>\n      <th>271359</th>\n      <td>0767409752</td>\n      <td>A Guided Tour of Rene Descartes' Meditations o...</td>\n      <td>Christopher  Biffle</td>\n      <td>2000</td>\n      <td>McGraw-Hill Humanities/Social Sciences/Languages</td>\n      <td>http://images.amazon.com/images/P/0767409752.0...</td>\n      <td>http://images.amazon.com/images/P/0767409752.0...</td>\n      <td>http://images.amazon.com/images/P/0767409752.0...</td>\n    </tr>\n  </tbody>\n</table>\n<p>271360 rows × 8 columns</p>\n</div>"
     },
     "execution_count": 3,
     "metadata": {},
     "output_type": "execute_result"
    }
   ],
   "source": [
    "df"
   ],
   "metadata": {
    "collapsed": false
   }
  },
  {
   "cell_type": "code",
   "execution_count": 4,
   "outputs": [
    {
     "data": {
      "text/plain": "29225"
     },
     "execution_count": 4,
     "metadata": {},
     "output_type": "execute_result"
    }
   ],
   "source": [
    "df.duplicated(subset='Book-Title').sum() # 29,225"
   ],
   "metadata": {
    "collapsed": false
   }
  },
  {
   "cell_type": "code",
   "execution_count": 5,
   "outputs": [],
   "source": [
    "df = df.drop_duplicates(subset='Book-Title')"
   ],
   "metadata": {
    "collapsed": false
   }
  },
  {
   "cell_type": "code",
   "execution_count": 6,
   "outputs": [
    {
     "data": {
      "text/plain": "0"
     },
     "execution_count": 6,
     "metadata": {},
     "output_type": "execute_result"
    }
   ],
   "source": [
    "df.duplicated(subset='Book-Title').sum() # 0"
   ],
   "metadata": {
    "collapsed": false
   }
  },
  {
   "cell_type": "code",
   "execution_count": 7,
   "outputs": [
    {
     "data": {
      "text/plain": "(15000, 8)"
     },
     "execution_count": 7,
     "metadata": {},
     "output_type": "execute_result"
    }
   ],
   "source": [
    "sample_size = 15000\n",
    "df = df.sample(n=sample_size, replace=False, random_state=490)\n",
    "df.shape"
   ],
   "metadata": {
    "collapsed": false
   }
  },
  {
   "cell_type": "code",
   "execution_count": 8,
   "outputs": [
    {
     "data": {
      "text/plain": "             ISBN                                         Book-Title  \\\n0      0060972491                                  Thank You, Jeeves   \n1      015602781X  Pincher Martin: The Two Deaths of Christopher ...   \n2      1561441627  The Nutcracker (Christmas Fun-to-Read Fairy Ta...   \n3      1402708610                                     I Know a Rhino   \n4      0441586325                        Norby and the Oldest Dragon   \n...           ...                                                ...   \n14995  1572240687  Taking the Anxiety Out of Taking Tests: A Step...   \n14996  157356303X              Encyclopedia of Women's Health Issues   \n14997  067900856X  Fodor's 2002 New York City (Fodor's New York C...   \n14998  0156232057           C. S. Lewis: A Biography,Revised Edition   \n14999  0060984163                       The Late Night Muse: A Novel   \n\n                   Book-Author Year-Of-Publication  \\\n0               P.G. Wodehouse                1989   \n1              William Golding                2002   \n2      Roberta Collier-Morales                1992   \n3                 Charles Fuge                2003   \n4                 Janet Asimov                1993   \n...                        ...                 ...   \n14995            Susan Johnson                1997   \n14996              Kathlyn Gay                2001   \n14997                   Fodors                2001   \n14998     Roger Lancelyn Green                1995   \n14999           Bette Pesetsky                1993   \n\n                         Publisher  \\\n0                        Perennial   \n1                    Harvest Books   \n2                Modern Publishing   \n3                         Sterling   \n4                        Ace Books   \n...                            ...   \n14995      New Harbinger Pubns Inc   \n14996                   Oryx Press   \n14997  Fodor's Travel Publications   \n14998                     Harcourt   \n14999                Harpercollins   \n\n                                             Image-URL-S  \\\n0      http://images.amazon.com/images/P/0060972491.0...   \n1      http://images.amazon.com/images/P/015602781X.0...   \n2      http://images.amazon.com/images/P/1561441627.0...   \n3      http://images.amazon.com/images/P/1402708610.0...   \n4      http://images.amazon.com/images/P/0441586325.0...   \n...                                                  ...   \n14995  http://images.amazon.com/images/P/1572240687.0...   \n14996  http://images.amazon.com/images/P/157356303X.0...   \n14997  http://images.amazon.com/images/P/067900856X.0...   \n14998  http://images.amazon.com/images/P/0156232057.0...   \n14999  http://images.amazon.com/images/P/0060984163.0...   \n\n                                             Image-URL-M  \\\n0      http://images.amazon.com/images/P/0060972491.0...   \n1      http://images.amazon.com/images/P/015602781X.0...   \n2      http://images.amazon.com/images/P/1561441627.0...   \n3      http://images.amazon.com/images/P/1402708610.0...   \n4      http://images.amazon.com/images/P/0441586325.0...   \n...                                                  ...   \n14995  http://images.amazon.com/images/P/1572240687.0...   \n14996  http://images.amazon.com/images/P/157356303X.0...   \n14997  http://images.amazon.com/images/P/067900856X.0...   \n14998  http://images.amazon.com/images/P/0156232057.0...   \n14999  http://images.amazon.com/images/P/0060984163.0...   \n\n                                             Image-URL-L  \n0      http://images.amazon.com/images/P/0060972491.0...  \n1      http://images.amazon.com/images/P/015602781X.0...  \n2      http://images.amazon.com/images/P/1561441627.0...  \n3      http://images.amazon.com/images/P/1402708610.0...  \n4      http://images.amazon.com/images/P/0441586325.0...  \n...                                                  ...  \n14995  http://images.amazon.com/images/P/1572240687.0...  \n14996  http://images.amazon.com/images/P/157356303X.0...  \n14997  http://images.amazon.com/images/P/067900856X.0...  \n14998  http://images.amazon.com/images/P/0156232057.0...  \n14999  http://images.amazon.com/images/P/0060984163.0...  \n\n[15000 rows x 8 columns]",
      "text/html": "<div>\n<style scoped>\n    .dataframe tbody tr th:only-of-type {\n        vertical-align: middle;\n    }\n\n    .dataframe tbody tr th {\n        vertical-align: top;\n    }\n\n    .dataframe thead th {\n        text-align: right;\n    }\n</style>\n<table border=\"1\" class=\"dataframe\">\n  <thead>\n    <tr style=\"text-align: right;\">\n      <th></th>\n      <th>ISBN</th>\n      <th>Book-Title</th>\n      <th>Book-Author</th>\n      <th>Year-Of-Publication</th>\n      <th>Publisher</th>\n      <th>Image-URL-S</th>\n      <th>Image-URL-M</th>\n      <th>Image-URL-L</th>\n    </tr>\n  </thead>\n  <tbody>\n    <tr>\n      <th>0</th>\n      <td>0060972491</td>\n      <td>Thank You, Jeeves</td>\n      <td>P.G. Wodehouse</td>\n      <td>1989</td>\n      <td>Perennial</td>\n      <td>http://images.amazon.com/images/P/0060972491.0...</td>\n      <td>http://images.amazon.com/images/P/0060972491.0...</td>\n      <td>http://images.amazon.com/images/P/0060972491.0...</td>\n    </tr>\n    <tr>\n      <th>1</th>\n      <td>015602781X</td>\n      <td>Pincher Martin: The Two Deaths of Christopher ...</td>\n      <td>William Golding</td>\n      <td>2002</td>\n      <td>Harvest Books</td>\n      <td>http://images.amazon.com/images/P/015602781X.0...</td>\n      <td>http://images.amazon.com/images/P/015602781X.0...</td>\n      <td>http://images.amazon.com/images/P/015602781X.0...</td>\n    </tr>\n    <tr>\n      <th>2</th>\n      <td>1561441627</td>\n      <td>The Nutcracker (Christmas Fun-to-Read Fairy Ta...</td>\n      <td>Roberta Collier-Morales</td>\n      <td>1992</td>\n      <td>Modern Publishing</td>\n      <td>http://images.amazon.com/images/P/1561441627.0...</td>\n      <td>http://images.amazon.com/images/P/1561441627.0...</td>\n      <td>http://images.amazon.com/images/P/1561441627.0...</td>\n    </tr>\n    <tr>\n      <th>3</th>\n      <td>1402708610</td>\n      <td>I Know a Rhino</td>\n      <td>Charles Fuge</td>\n      <td>2003</td>\n      <td>Sterling</td>\n      <td>http://images.amazon.com/images/P/1402708610.0...</td>\n      <td>http://images.amazon.com/images/P/1402708610.0...</td>\n      <td>http://images.amazon.com/images/P/1402708610.0...</td>\n    </tr>\n    <tr>\n      <th>4</th>\n      <td>0441586325</td>\n      <td>Norby and the Oldest Dragon</td>\n      <td>Janet Asimov</td>\n      <td>1993</td>\n      <td>Ace Books</td>\n      <td>http://images.amazon.com/images/P/0441586325.0...</td>\n      <td>http://images.amazon.com/images/P/0441586325.0...</td>\n      <td>http://images.amazon.com/images/P/0441586325.0...</td>\n    </tr>\n    <tr>\n      <th>...</th>\n      <td>...</td>\n      <td>...</td>\n      <td>...</td>\n      <td>...</td>\n      <td>...</td>\n      <td>...</td>\n      <td>...</td>\n      <td>...</td>\n    </tr>\n    <tr>\n      <th>14995</th>\n      <td>1572240687</td>\n      <td>Taking the Anxiety Out of Taking Tests: A Step...</td>\n      <td>Susan Johnson</td>\n      <td>1997</td>\n      <td>New Harbinger Pubns Inc</td>\n      <td>http://images.amazon.com/images/P/1572240687.0...</td>\n      <td>http://images.amazon.com/images/P/1572240687.0...</td>\n      <td>http://images.amazon.com/images/P/1572240687.0...</td>\n    </tr>\n    <tr>\n      <th>14996</th>\n      <td>157356303X</td>\n      <td>Encyclopedia of Women's Health Issues</td>\n      <td>Kathlyn Gay</td>\n      <td>2001</td>\n      <td>Oryx Press</td>\n      <td>http://images.amazon.com/images/P/157356303X.0...</td>\n      <td>http://images.amazon.com/images/P/157356303X.0...</td>\n      <td>http://images.amazon.com/images/P/157356303X.0...</td>\n    </tr>\n    <tr>\n      <th>14997</th>\n      <td>067900856X</td>\n      <td>Fodor's 2002 New York City (Fodor's New York C...</td>\n      <td>Fodors</td>\n      <td>2001</td>\n      <td>Fodor's Travel Publications</td>\n      <td>http://images.amazon.com/images/P/067900856X.0...</td>\n      <td>http://images.amazon.com/images/P/067900856X.0...</td>\n      <td>http://images.amazon.com/images/P/067900856X.0...</td>\n    </tr>\n    <tr>\n      <th>14998</th>\n      <td>0156232057</td>\n      <td>C. S. Lewis: A Biography,Revised Edition</td>\n      <td>Roger Lancelyn Green</td>\n      <td>1995</td>\n      <td>Harcourt</td>\n      <td>http://images.amazon.com/images/P/0156232057.0...</td>\n      <td>http://images.amazon.com/images/P/0156232057.0...</td>\n      <td>http://images.amazon.com/images/P/0156232057.0...</td>\n    </tr>\n    <tr>\n      <th>14999</th>\n      <td>0060984163</td>\n      <td>The Late Night Muse: A Novel</td>\n      <td>Bette Pesetsky</td>\n      <td>1993</td>\n      <td>Harpercollins</td>\n      <td>http://images.amazon.com/images/P/0060984163.0...</td>\n      <td>http://images.amazon.com/images/P/0060984163.0...</td>\n      <td>http://images.amazon.com/images/P/0060984163.0...</td>\n    </tr>\n  </tbody>\n</table>\n<p>15000 rows × 8 columns</p>\n</div>"
     },
     "execution_count": 8,
     "metadata": {},
     "output_type": "execute_result"
    }
   ],
   "source": [
    "df = df.reset_index()\n",
    "df = df.drop('index',axis=1)\n",
    "df  "
   ],
   "metadata": {
    "collapsed": false
   }
  },
  {
   "cell_type": "code",
   "execution_count": 9,
   "outputs": [],
   "source": [
    "def clean_text(author):\n",
    "    result = str(author).lower()\n",
    "    return(result.replace(' ',''))"
   ],
   "metadata": {
    "collapsed": false
   }
  },
  {
   "cell_type": "code",
   "execution_count": 10,
   "outputs": [
    {
     "data": {
      "text/plain": "             ISBN                                         Book-Title  \\\n0      0060972491                                  Thank You, Jeeves   \n1      015602781X  Pincher Martin: The Two Deaths of Christopher ...   \n2      1561441627  The Nutcracker (Christmas Fun-to-Read Fairy Ta...   \n3      1402708610                                     I Know a Rhino   \n4      0441586325                        Norby and the Oldest Dragon   \n...           ...                                                ...   \n14995  1572240687  Taking the Anxiety Out of Taking Tests: A Step...   \n14996  157356303X              Encyclopedia of Women's Health Issues   \n14997  067900856X  Fodor's 2002 New York City (Fodor's New York C...   \n14998  0156232057           C. S. Lewis: A Biography,Revised Edition   \n14999  0060984163                       The Late Night Muse: A Novel   \n\n                  Book-Author Year-Of-Publication  \\\n0               p.g.wodehouse                1989   \n1              williamgolding                2002   \n2      robertacollier-morales                1992   \n3                 charlesfuge                2003   \n4                 janetasimov                1993   \n...                       ...                 ...   \n14995            susanjohnson                1997   \n14996              kathlyngay                2001   \n14997                  fodors                2001   \n14998      rogerlancelyngreen                1995   \n14999           bettepesetsky                1993   \n\n                         Publisher  \\\n0                        Perennial   \n1                    Harvest Books   \n2                Modern Publishing   \n3                         Sterling   \n4                        Ace Books   \n...                            ...   \n14995      New Harbinger Pubns Inc   \n14996                   Oryx Press   \n14997  Fodor's Travel Publications   \n14998                     Harcourt   \n14999                Harpercollins   \n\n                                             Image-URL-S  \\\n0      http://images.amazon.com/images/P/0060972491.0...   \n1      http://images.amazon.com/images/P/015602781X.0...   \n2      http://images.amazon.com/images/P/1561441627.0...   \n3      http://images.amazon.com/images/P/1402708610.0...   \n4      http://images.amazon.com/images/P/0441586325.0...   \n...                                                  ...   \n14995  http://images.amazon.com/images/P/1572240687.0...   \n14996  http://images.amazon.com/images/P/157356303X.0...   \n14997  http://images.amazon.com/images/P/067900856X.0...   \n14998  http://images.amazon.com/images/P/0156232057.0...   \n14999  http://images.amazon.com/images/P/0060984163.0...   \n\n                                             Image-URL-M  \\\n0      http://images.amazon.com/images/P/0060972491.0...   \n1      http://images.amazon.com/images/P/015602781X.0...   \n2      http://images.amazon.com/images/P/1561441627.0...   \n3      http://images.amazon.com/images/P/1402708610.0...   \n4      http://images.amazon.com/images/P/0441586325.0...   \n...                                                  ...   \n14995  http://images.amazon.com/images/P/1572240687.0...   \n14996  http://images.amazon.com/images/P/157356303X.0...   \n14997  http://images.amazon.com/images/P/067900856X.0...   \n14998  http://images.amazon.com/images/P/0156232057.0...   \n14999  http://images.amazon.com/images/P/0060984163.0...   \n\n                                             Image-URL-L  \n0      http://images.amazon.com/images/P/0060972491.0...  \n1      http://images.amazon.com/images/P/015602781X.0...  \n2      http://images.amazon.com/images/P/1561441627.0...  \n3      http://images.amazon.com/images/P/1402708610.0...  \n4      http://images.amazon.com/images/P/0441586325.0...  \n...                                                  ...  \n14995  http://images.amazon.com/images/P/1572240687.0...  \n14996  http://images.amazon.com/images/P/157356303X.0...  \n14997  http://images.amazon.com/images/P/067900856X.0...  \n14998  http://images.amazon.com/images/P/0156232057.0...  \n14999  http://images.amazon.com/images/P/0060984163.0...  \n\n[15000 rows x 8 columns]",
      "text/html": "<div>\n<style scoped>\n    .dataframe tbody tr th:only-of-type {\n        vertical-align: middle;\n    }\n\n    .dataframe tbody tr th {\n        vertical-align: top;\n    }\n\n    .dataframe thead th {\n        text-align: right;\n    }\n</style>\n<table border=\"1\" class=\"dataframe\">\n  <thead>\n    <tr style=\"text-align: right;\">\n      <th></th>\n      <th>ISBN</th>\n      <th>Book-Title</th>\n      <th>Book-Author</th>\n      <th>Year-Of-Publication</th>\n      <th>Publisher</th>\n      <th>Image-URL-S</th>\n      <th>Image-URL-M</th>\n      <th>Image-URL-L</th>\n    </tr>\n  </thead>\n  <tbody>\n    <tr>\n      <th>0</th>\n      <td>0060972491</td>\n      <td>Thank You, Jeeves</td>\n      <td>p.g.wodehouse</td>\n      <td>1989</td>\n      <td>Perennial</td>\n      <td>http://images.amazon.com/images/P/0060972491.0...</td>\n      <td>http://images.amazon.com/images/P/0060972491.0...</td>\n      <td>http://images.amazon.com/images/P/0060972491.0...</td>\n    </tr>\n    <tr>\n      <th>1</th>\n      <td>015602781X</td>\n      <td>Pincher Martin: The Two Deaths of Christopher ...</td>\n      <td>williamgolding</td>\n      <td>2002</td>\n      <td>Harvest Books</td>\n      <td>http://images.amazon.com/images/P/015602781X.0...</td>\n      <td>http://images.amazon.com/images/P/015602781X.0...</td>\n      <td>http://images.amazon.com/images/P/015602781X.0...</td>\n    </tr>\n    <tr>\n      <th>2</th>\n      <td>1561441627</td>\n      <td>The Nutcracker (Christmas Fun-to-Read Fairy Ta...</td>\n      <td>robertacollier-morales</td>\n      <td>1992</td>\n      <td>Modern Publishing</td>\n      <td>http://images.amazon.com/images/P/1561441627.0...</td>\n      <td>http://images.amazon.com/images/P/1561441627.0...</td>\n      <td>http://images.amazon.com/images/P/1561441627.0...</td>\n    </tr>\n    <tr>\n      <th>3</th>\n      <td>1402708610</td>\n      <td>I Know a Rhino</td>\n      <td>charlesfuge</td>\n      <td>2003</td>\n      <td>Sterling</td>\n      <td>http://images.amazon.com/images/P/1402708610.0...</td>\n      <td>http://images.amazon.com/images/P/1402708610.0...</td>\n      <td>http://images.amazon.com/images/P/1402708610.0...</td>\n    </tr>\n    <tr>\n      <th>4</th>\n      <td>0441586325</td>\n      <td>Norby and the Oldest Dragon</td>\n      <td>janetasimov</td>\n      <td>1993</td>\n      <td>Ace Books</td>\n      <td>http://images.amazon.com/images/P/0441586325.0...</td>\n      <td>http://images.amazon.com/images/P/0441586325.0...</td>\n      <td>http://images.amazon.com/images/P/0441586325.0...</td>\n    </tr>\n    <tr>\n      <th>...</th>\n      <td>...</td>\n      <td>...</td>\n      <td>...</td>\n      <td>...</td>\n      <td>...</td>\n      <td>...</td>\n      <td>...</td>\n      <td>...</td>\n    </tr>\n    <tr>\n      <th>14995</th>\n      <td>1572240687</td>\n      <td>Taking the Anxiety Out of Taking Tests: A Step...</td>\n      <td>susanjohnson</td>\n      <td>1997</td>\n      <td>New Harbinger Pubns Inc</td>\n      <td>http://images.amazon.com/images/P/1572240687.0...</td>\n      <td>http://images.amazon.com/images/P/1572240687.0...</td>\n      <td>http://images.amazon.com/images/P/1572240687.0...</td>\n    </tr>\n    <tr>\n      <th>14996</th>\n      <td>157356303X</td>\n      <td>Encyclopedia of Women's Health Issues</td>\n      <td>kathlyngay</td>\n      <td>2001</td>\n      <td>Oryx Press</td>\n      <td>http://images.amazon.com/images/P/157356303X.0...</td>\n      <td>http://images.amazon.com/images/P/157356303X.0...</td>\n      <td>http://images.amazon.com/images/P/157356303X.0...</td>\n    </tr>\n    <tr>\n      <th>14997</th>\n      <td>067900856X</td>\n      <td>Fodor's 2002 New York City (Fodor's New York C...</td>\n      <td>fodors</td>\n      <td>2001</td>\n      <td>Fodor's Travel Publications</td>\n      <td>http://images.amazon.com/images/P/067900856X.0...</td>\n      <td>http://images.amazon.com/images/P/067900856X.0...</td>\n      <td>http://images.amazon.com/images/P/067900856X.0...</td>\n    </tr>\n    <tr>\n      <th>14998</th>\n      <td>0156232057</td>\n      <td>C. S. Lewis: A Biography,Revised Edition</td>\n      <td>rogerlancelyngreen</td>\n      <td>1995</td>\n      <td>Harcourt</td>\n      <td>http://images.amazon.com/images/P/0156232057.0...</td>\n      <td>http://images.amazon.com/images/P/0156232057.0...</td>\n      <td>http://images.amazon.com/images/P/0156232057.0...</td>\n    </tr>\n    <tr>\n      <th>14999</th>\n      <td>0060984163</td>\n      <td>The Late Night Muse: A Novel</td>\n      <td>bettepesetsky</td>\n      <td>1993</td>\n      <td>Harpercollins</td>\n      <td>http://images.amazon.com/images/P/0060984163.0...</td>\n      <td>http://images.amazon.com/images/P/0060984163.0...</td>\n      <td>http://images.amazon.com/images/P/0060984163.0...</td>\n    </tr>\n  </tbody>\n</table>\n<p>15000 rows × 8 columns</p>\n</div>"
     },
     "execution_count": 10,
     "metadata": {},
     "output_type": "execute_result"
    }
   ],
   "source": [
    "df['Book-Author'] = df['Book-Author'].apply(clean_text)\n",
    "df"
   ],
   "metadata": {
    "collapsed": false
   }
  },
  {
   "cell_type": "code",
   "execution_count": 11,
   "outputs": [],
   "source": [
    "df['Book-Title'] = df['Book-Title'].str.lower()\n",
    "df['Publisher'] = df['Publisher'].str.lower()"
   ],
   "metadata": {
    "collapsed": false
   }
  },
  {
   "cell_type": "code",
   "execution_count": 16,
   "outputs": [
    {
     "data": {
      "text/plain": "0                         p.g.wodehouse perennial\n1                    williamgolding harvest books\n2        robertacollier-morales modern publishing\n3                            charlesfuge sterling\n4                           janetasimov ace books\n                           ...                   \n14995        susanjohnson new harbinger pubns inc\n14996                       kathlyngay oryx press\n14997          fodors fodor's travel publications\n14998                 rogerlancelyngreen harcourt\n14999                 bettepesetsky harpercollins\nName: data, Length: 15000, dtype: object"
     },
     "execution_count": 16,
     "metadata": {},
     "output_type": "execute_result"
    }
   ],
   "source": [
    "# combine all strings:\n",
    "df2 = df.drop(['ISBN','Image-URL-S','Image-URL-M','Image-URL-L','Year-Of-Publication'],axis=1)\n",
    "\n",
    "df2['data'] = df2[df2.columns[1:]].apply(lambda x: ' '.join(x.dropna().astype(str)), axis=1)\n",
    "df2['data']"
   ],
   "metadata": {
    "collapsed": false
   }
  },
  {
   "cell_type": "code",
   "execution_count": 17,
   "outputs": [],
   "source": [
    "from sklearn.feature_extraction.text import CountVectorizer\n",
    "\n",
    "vectorizer = CountVectorizer()\n",
    "vectorized = vectorizer.fit_transform(df2['data'])"
   ],
   "metadata": {
    "collapsed": false
   }
  },
  {
   "cell_type": "code",
   "execution_count": 18,
   "outputs": [
    {
     "data": {
      "text/plain": "<15000x15239 sparse matrix of type '<class 'numpy.int64'>'\n\twith 51659 stored elements in Compressed Sparse Row format>"
     },
     "execution_count": 18,
     "metadata": {},
     "output_type": "execute_result"
    }
   ],
   "source": [
    "vectorized"
   ],
   "metadata": {
    "collapsed": false
   }
  },
  {
   "cell_type": "code",
   "execution_count": 21,
   "outputs": [
    {
     "data": {
      "text/plain": "array([[1., 0., 0., ..., 0., 0., 0.],\n       [0., 1., 0., ..., 0., 0., 0.],\n       [0., 0., 1., ..., 0., 0., 0.],\n       ...,\n       [0., 0., 0., ..., 1., 0., 0.],\n       [0., 0., 0., ..., 0., 1., 0.],\n       [0., 0., 0., ..., 0., 0., 1.]])"
     },
     "execution_count": 21,
     "metadata": {},
     "output_type": "execute_result"
    }
   ],
   "source": [
    "from sklearn.metrics.pairwise import cosine_similarity\n",
    "\n",
    "similarities = cosine_similarity(vectorized)\n",
    "similarities"
   ],
   "metadata": {
    "collapsed": false
   }
  },
  {
   "cell_type": "code",
   "execution_count": 22,
   "outputs": [
    {
     "data": {
      "text/plain": "Book-Title                                         Book-Title  \\\n0                                           thank you, jeeves   \n1           pincher martin: the two deaths of christopher ...   \n2           the nutcracker (christmas fun-to-read fairy ta...   \n3                                              i know a rhino   \n4                                 norby and the oldest dragon   \n\nBook-Title  thank you, jeeves  \\\n0                         1.0   \n1                         0.0   \n2                         0.0   \n3                         0.0   \n4                         0.0   \n\nBook-Title  pincher martin: the two deaths of christopher martin  \\\n0                                                    0.000000      \n1                                                    1.000000      \n2                                                    0.000000      \n3                                                    0.000000      \n4                                                    0.333333      \n\nBook-Title  the nutcracker (christmas fun-to-read fairy tales ser)  \\\n0                                                         0.0        \n1                                                         0.0        \n2                                                         1.0        \n3                                                         0.0        \n4                                                         0.0        \n\nBook-Title  i know a rhino  norby and the oldest dragon  \\\n0                      0.0                     0.000000   \n1                      0.0                     0.333333   \n2                      0.0                     0.000000   \n3                      1.0                     0.000000   \n4                      0.0                     1.000000   \n\nBook-Title  his eminence and hizzoner  \\\n0                            0.000000   \n1                            0.288675   \n2                            0.000000   \n3                            0.000000   \n4                            0.288675   \n\nBook-Title  el oro de los sueã±os (leer en espaã±ol nivel 4)  \\\n0                                                   0.000000   \n1                                                   0.000000   \n2                                                   0.223607   \n3                                                   0.000000   \n4                                                   0.000000   \n\nBook-Title  celestine insights  \\\n0                     0.000000   \n1                     0.288675   \n2                     0.000000   \n3                     0.000000   \n4                     0.288675   \n\nBook-Title  feng shui and money: a nine-week program for creating wealth using ancient principles and techniques  \\\n0                                                         0.0                                                      \n1                                                         0.0                                                      \n2                                                         0.0                                                      \n3                                                         0.0                                                      \n4                                                         0.0                                                      \n\nBook-Title  ...  the santa suit (harlequin american romance, no. 708)  \\\n0           ...                                                0.0      \n1           ...                                                0.0      \n2           ...                                                0.0      \n3           ...                                                0.0      \n4           ...                                                0.0      \n\nBook-Title  where the gods reign: plants and peoples of the colombian amazon  \\\n0                                                         0.0                  \n1                                                         0.0                  \n2                                                         0.0                  \n3                                                         0.0                  \n4                                                         0.0                  \n\nBook-Title  the terrible troll-bird  virginia embrace (magnolia road)  \\\n0                          0.000000                          0.000000   \n1                          0.235702                          0.288675   \n2                          0.000000                          0.000000   \n3                          0.000000                          0.000000   \n4                          0.235702                          0.288675   \n\nBook-Title  take 5, volume 4 (under the knife, adam's gift, return to yesterday, everything but time, marriage diamond style)  \\\n0                                                         0.0                                                                   \n1                                                         0.0                                                                   \n2                                                         0.0                                                                   \n3                                                         0.0                                                                   \n4                                                         0.0                                                                   \n\nBook-Title  taking the anxiety out of taking tests: a step-by-step guide  \\\n0                                                         0.0              \n1                                                         0.0              \n2                                                         0.0              \n3                                                         0.0              \n4                                                         0.0              \n\nBook-Title  encyclopedia of women's health issues  \\\n0                                             0.0   \n1                                             0.0   \n2                                             0.0   \n3                                             0.0   \n4                                             0.0   \n\nBook-Title  fodor's 2002 new york city (fodor's new york city)  \\\n0                                                         0.0    \n1                                                         0.0    \n2                                                         0.0    \n3                                                         0.0    \n4                                                         0.0    \n\nBook-Title  c. s. lewis: a biography,revised edition  \\\n0                                                0.0   \n1                                                0.0   \n2                                                0.0   \n3                                                0.0   \n4                                                0.0   \n\nBook-Title  the late night muse: a novel  \n0                                    0.0  \n1                                    0.0  \n2                                    0.0  \n3                                    0.0  \n4                                    0.0  \n\n[5 rows x 15001 columns]",
      "text/html": "<div>\n<style scoped>\n    .dataframe tbody tr th:only-of-type {\n        vertical-align: middle;\n    }\n\n    .dataframe tbody tr th {\n        vertical-align: top;\n    }\n\n    .dataframe thead th {\n        text-align: right;\n    }\n</style>\n<table border=\"1\" class=\"dataframe\">\n  <thead>\n    <tr style=\"text-align: right;\">\n      <th>Book-Title</th>\n      <th>Book-Title</th>\n      <th>thank you, jeeves</th>\n      <th>pincher martin: the two deaths of christopher martin</th>\n      <th>the nutcracker (christmas fun-to-read fairy tales ser)</th>\n      <th>i know a rhino</th>\n      <th>norby and the oldest dragon</th>\n      <th>his eminence and hizzoner</th>\n      <th>el oro de los sueã±os (leer en espaã±ol nivel 4)</th>\n      <th>celestine insights</th>\n      <th>feng shui and money: a nine-week program for creating wealth using ancient principles and techniques</th>\n      <th>...</th>\n      <th>the santa suit (harlequin american romance, no. 708)</th>\n      <th>where the gods reign: plants and peoples of the colombian amazon</th>\n      <th>the terrible troll-bird</th>\n      <th>virginia embrace (magnolia road)</th>\n      <th>take 5, volume 4 (under the knife, adam's gift, return to yesterday, everything but time, marriage diamond style)</th>\n      <th>taking the anxiety out of taking tests: a step-by-step guide</th>\n      <th>encyclopedia of women's health issues</th>\n      <th>fodor's 2002 new york city (fodor's new york city)</th>\n      <th>c. s. lewis: a biography,revised edition</th>\n      <th>the late night muse: a novel</th>\n    </tr>\n  </thead>\n  <tbody>\n    <tr>\n      <th>0</th>\n      <td>thank you, jeeves</td>\n      <td>1.0</td>\n      <td>0.000000</td>\n      <td>0.0</td>\n      <td>0.0</td>\n      <td>0.000000</td>\n      <td>0.000000</td>\n      <td>0.000000</td>\n      <td>0.000000</td>\n      <td>0.0</td>\n      <td>...</td>\n      <td>0.0</td>\n      <td>0.0</td>\n      <td>0.000000</td>\n      <td>0.000000</td>\n      <td>0.0</td>\n      <td>0.0</td>\n      <td>0.0</td>\n      <td>0.0</td>\n      <td>0.0</td>\n      <td>0.0</td>\n    </tr>\n    <tr>\n      <th>1</th>\n      <td>pincher martin: the two deaths of christopher ...</td>\n      <td>0.0</td>\n      <td>1.000000</td>\n      <td>0.0</td>\n      <td>0.0</td>\n      <td>0.333333</td>\n      <td>0.288675</td>\n      <td>0.000000</td>\n      <td>0.288675</td>\n      <td>0.0</td>\n      <td>...</td>\n      <td>0.0</td>\n      <td>0.0</td>\n      <td>0.235702</td>\n      <td>0.288675</td>\n      <td>0.0</td>\n      <td>0.0</td>\n      <td>0.0</td>\n      <td>0.0</td>\n      <td>0.0</td>\n      <td>0.0</td>\n    </tr>\n    <tr>\n      <th>2</th>\n      <td>the nutcracker (christmas fun-to-read fairy ta...</td>\n      <td>0.0</td>\n      <td>0.000000</td>\n      <td>1.0</td>\n      <td>0.0</td>\n      <td>0.000000</td>\n      <td>0.000000</td>\n      <td>0.223607</td>\n      <td>0.000000</td>\n      <td>0.0</td>\n      <td>...</td>\n      <td>0.0</td>\n      <td>0.0</td>\n      <td>0.000000</td>\n      <td>0.000000</td>\n      <td>0.0</td>\n      <td>0.0</td>\n      <td>0.0</td>\n      <td>0.0</td>\n      <td>0.0</td>\n      <td>0.0</td>\n    </tr>\n    <tr>\n      <th>3</th>\n      <td>i know a rhino</td>\n      <td>0.0</td>\n      <td>0.000000</td>\n      <td>0.0</td>\n      <td>1.0</td>\n      <td>0.000000</td>\n      <td>0.000000</td>\n      <td>0.000000</td>\n      <td>0.000000</td>\n      <td>0.0</td>\n      <td>...</td>\n      <td>0.0</td>\n      <td>0.0</td>\n      <td>0.000000</td>\n      <td>0.000000</td>\n      <td>0.0</td>\n      <td>0.0</td>\n      <td>0.0</td>\n      <td>0.0</td>\n      <td>0.0</td>\n      <td>0.0</td>\n    </tr>\n    <tr>\n      <th>4</th>\n      <td>norby and the oldest dragon</td>\n      <td>0.0</td>\n      <td>0.333333</td>\n      <td>0.0</td>\n      <td>0.0</td>\n      <td>1.000000</td>\n      <td>0.288675</td>\n      <td>0.000000</td>\n      <td>0.288675</td>\n      <td>0.0</td>\n      <td>...</td>\n      <td>0.0</td>\n      <td>0.0</td>\n      <td>0.235702</td>\n      <td>0.288675</td>\n      <td>0.0</td>\n      <td>0.0</td>\n      <td>0.0</td>\n      <td>0.0</td>\n      <td>0.0</td>\n      <td>0.0</td>\n    </tr>\n  </tbody>\n</table>\n<p>5 rows × 15001 columns</p>\n</div>"
     },
     "execution_count": 22,
     "metadata": {},
     "output_type": "execute_result"
    }
   ],
   "source": [
    "df = pd.DataFrame(similarities, columns=df['Book-Title'], index=df['Book-Title']).reset_index()\n",
    "\n",
    "df.head()"
   ],
   "metadata": {
    "collapsed": false
   }
  },
  {
   "cell_type": "code",
   "execution_count": 23,
   "outputs": [
    {
     "data": {
      "text/plain": "                                             Book-Title\n768    to storm heaven (star trek: the next generation)\n802   the star trek chronology : a history of the fu...\n1472           gateways #1:  one small step (star trek)\n2051           reunion (star trek: the next generation)\n2891                marooned (star trek voyager, no 14)\n3727     maelstrom (ultima: the technocrat war, book 3)\n3991         belle terre (star trek: new earth, book 2)\n4567  the way of the warrior (star trek deep space n...\n4757  a rock and a hard place:star trek next generat...\n5812               the joy machine (star trek, book 80)",
      "text/html": "<div>\n<style scoped>\n    .dataframe tbody tr th:only-of-type {\n        vertical-align: middle;\n    }\n\n    .dataframe tbody tr th {\n        vertical-align: top;\n    }\n\n    .dataframe thead th {\n        text-align: right;\n    }\n</style>\n<table border=\"1\" class=\"dataframe\">\n  <thead>\n    <tr style=\"text-align: right;\">\n      <th></th>\n      <th>Book-Title</th>\n    </tr>\n  </thead>\n  <tbody>\n    <tr>\n      <th>768</th>\n      <td>to storm heaven (star trek: the next generation)</td>\n    </tr>\n    <tr>\n      <th>802</th>\n      <td>the star trek chronology : a history of the fu...</td>\n    </tr>\n    <tr>\n      <th>1472</th>\n      <td>gateways #1:  one small step (star trek)</td>\n    </tr>\n    <tr>\n      <th>2051</th>\n      <td>reunion (star trek: the next generation)</td>\n    </tr>\n    <tr>\n      <th>2891</th>\n      <td>marooned (star trek voyager, no 14)</td>\n    </tr>\n    <tr>\n      <th>3727</th>\n      <td>maelstrom (ultima: the technocrat war, book 3)</td>\n    </tr>\n    <tr>\n      <th>3991</th>\n      <td>belle terre (star trek: new earth, book 2)</td>\n    </tr>\n    <tr>\n      <th>4567</th>\n      <td>the way of the warrior (star trek deep space n...</td>\n    </tr>\n    <tr>\n      <th>4757</th>\n      <td>a rock and a hard place:star trek next generat...</td>\n    </tr>\n    <tr>\n      <th>5812</th>\n      <td>the joy machine (star trek, book 80)</td>\n    </tr>\n  </tbody>\n</table>\n</div>"
     },
     "execution_count": 23,
     "metadata": {},
     "output_type": "execute_result"
    }
   ],
   "source": [
    "input_book = 'far beyond the stars (star trek deep space nine)'\n",
    "recommendations = pd.DataFrame(df.nlargest(11,input_book)['Book-Title'])\n",
    "recommendations = recommendations[recommendations['Book-Title']!=input_book]\n",
    "recommendations"
   ],
   "metadata": {
    "collapsed": false
   }
  },
  {
   "cell_type": "code",
   "execution_count": null,
   "outputs": [],
   "source": [],
   "metadata": {
    "collapsed": false
   }
  }
 ],
 "metadata": {
  "kernelspec": {
   "display_name": "Python 3",
   "language": "python",
   "name": "python3"
  },
  "language_info": {
   "codemirror_mode": {
    "name": "ipython",
    "version": 2
   },
   "file_extension": ".py",
   "mimetype": "text/x-python",
   "name": "python",
   "nbconvert_exporter": "python",
   "pygments_lexer": "ipython2",
   "version": "2.7.6"
  }
 },
 "nbformat": 4,
 "nbformat_minor": 0
}
