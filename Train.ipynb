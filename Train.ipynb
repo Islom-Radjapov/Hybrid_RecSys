{
 "cells": [
  {
   "cell_type": "code",
   "execution_count": 7,
   "metadata": {
    "collapsed": true
   },
   "outputs": [
    {
     "name": "stdout",
     "output_type": "stream",
     "text": [
      "Collecting lightfm\n",
      "  Using cached lightfm-1.16.tar.gz (310 kB)\n",
      "  Preparing metadata (setup.py): started\n",
      "  Preparing metadata (setup.py): finished with status 'done'\n",
      "Requirement already satisfied: numpy in c:\\users\\islom\\pycharmprojects\\test_python_and_cpp\\venv\\lib\\site-packages (from lightfm) (1.23.5)\n",
      "Requirement already satisfied: scipy>=0.17.0 in c:\\users\\islom\\pycharmprojects\\test_python_and_cpp\\venv\\lib\\site-packages (from lightfm) (1.9.3)\n",
      "Requirement already satisfied: requests in c:\\users\\islom\\pycharmprojects\\test_python_and_cpp\\venv\\lib\\site-packages (from lightfm) (2.28.1)\n",
      "Requirement already satisfied: scikit-learn in c:\\users\\islom\\pycharmprojects\\test_python_and_cpp\\venv\\lib\\site-packages (from lightfm) (1.2.0)\n",
      "Requirement already satisfied: certifi>=2017.4.17 in c:\\users\\islom\\pycharmprojects\\test_python_and_cpp\\venv\\lib\\site-packages (from requests->lightfm) (2022.12.7)\n",
      "Requirement already satisfied: idna<4,>=2.5 in c:\\users\\islom\\pycharmprojects\\test_python_and_cpp\\venv\\lib\\site-packages (from requests->lightfm) (3.4)\n",
      "Requirement already satisfied: urllib3<1.27,>=1.21.1 in c:\\users\\islom\\pycharmprojects\\test_python_and_cpp\\venv\\lib\\site-packages (from requests->lightfm) (1.26.13)\n",
      "Requirement already satisfied: charset-normalizer<3,>=2 in c:\\users\\islom\\pycharmprojects\\test_python_and_cpp\\venv\\lib\\site-packages (from requests->lightfm) (2.1.1)\n",
      "Requirement already satisfied: joblib>=1.1.1 in c:\\users\\islom\\pycharmprojects\\test_python_and_cpp\\venv\\lib\\site-packages (from scikit-learn->lightfm) (1.2.0)\n",
      "Requirement already satisfied: threadpoolctl>=2.0.0 in c:\\users\\islom\\pycharmprojects\\test_python_and_cpp\\venv\\lib\\site-packages (from scikit-learn->lightfm) (3.1.0)\n",
      "Building wheels for collected packages: lightfm\n",
      "  Building wheel for lightfm (setup.py): started\n",
      "  Building wheel for lightfm (setup.py): finished with status 'error'\n",
      "  Running setup.py clean for lightfm\n",
      "Failed to build lightfm\n",
      "Installing collected packages: lightfm\n",
      "    Running setup.py install for lightfm: started\n",
      "    Running setup.py install for lightfm: finished with status 'error'\n"
     ]
    },
    {
     "name": "stderr",
     "output_type": "stream",
     "text": [
      "  ERROR: Command errored out with exit status 1:\n",
      "   command: 'C:\\Users\\islom\\PycharmProjects\\Test_python_and_cpp\\venv\\Scripts\\python.exe' -u -c 'import io, os, sys, setuptools, tokenize; sys.argv[0] = '\"'\"'C:\\\\Users\\\\islom\\\\AppData\\\\Local\\\\Temp\\\\pip-install-d4ipg4wt\\\\lightfm_ae997fb783644c149b3d7180399a0e2b\\\\setup.py'\"'\"'; __file__='\"'\"'C:\\\\Users\\\\islom\\\\AppData\\\\Local\\\\Temp\\\\pip-install-d4ipg4wt\\\\lightfm_ae997fb783644c149b3d7180399a0e2b\\\\setup.py'\"'\"';f = getattr(tokenize, '\"'\"'open'\"'\"', open)(__file__) if os.path.exists(__file__) else io.StringIO('\"'\"'from setuptools import setup; setup()'\"'\"');code = f.read().replace('\"'\"'\\r\\n'\"'\"', '\"'\"'\\n'\"'\"');f.close();exec(compile(code, __file__, '\"'\"'exec'\"'\"'))' bdist_wheel -d 'C:\\Users\\islom\\AppData\\Local\\Temp\\pip-wheel-sp9hq9qd'\n",
      "       cwd: C:\\Users\\islom\\AppData\\Local\\Temp\\pip-install-d4ipg4wt\\lightfm_ae997fb783644c149b3d7180399a0e2b\\\n",
      "  Complete output (25 lines):\n",
      "  Compiling without OpenMP support.\n",
      "  C:\\Users\\islom\\PycharmProjects\\Test_python_and_cpp\\venv\\lib\\site-packages\\setuptools\\dist.py:770: UserWarning: Usage of dash-separated 'description-file' will not be supported in future versions. Please use the underscore name 'description_file' instead\n",
      "    warnings.warn(\n",
      "  running bdist_wheel\n",
      "  running build\n",
      "  running build_py\n",
      "  creating build\n",
      "  creating build\\lib.win-amd64-cpython-310\n",
      "  creating build\\lib.win-amd64-cpython-310\\lightfm\n",
      "  copying lightfm\\cross_validation.py -> build\\lib.win-amd64-cpython-310\\lightfm\n",
      "  copying lightfm\\data.py -> build\\lib.win-amd64-cpython-310\\lightfm\n",
      "  copying lightfm\\evaluation.py -> build\\lib.win-amd64-cpython-310\\lightfm\n",
      "  copying lightfm\\lightfm.py -> build\\lib.win-amd64-cpython-310\\lightfm\n",
      "  copying lightfm\\_lightfm_fast.py -> build\\lib.win-amd64-cpython-310\\lightfm\n",
      "  copying lightfm\\__init__.py -> build\\lib.win-amd64-cpython-310\\lightfm\n",
      "  creating build\\lib.win-amd64-cpython-310\\lightfm\\datasets\n",
      "  copying lightfm\\datasets\\movielens.py -> build\\lib.win-amd64-cpython-310\\lightfm\\datasets\n",
      "  copying lightfm\\datasets\\stackexchange.py -> build\\lib.win-amd64-cpython-310\\lightfm\\datasets\n",
      "  copying lightfm\\datasets\\_common.py -> build\\lib.win-amd64-cpython-310\\lightfm\\datasets\n",
      "  copying lightfm\\datasets\\__init__.py -> build\\lib.win-amd64-cpython-310\\lightfm\\datasets\n",
      "  copying lightfm\\_lightfm_fast_no_openmp.c -> build\\lib.win-amd64-cpython-310\\lightfm\n",
      "  copying lightfm\\_lightfm_fast_openmp.c -> build\\lib.win-amd64-cpython-310\\lightfm\n",
      "  running build_ext\n",
      "  building 'lightfm._lightfm_fast_no_openmp' extension\n",
      "  error: Microsoft Visual C++ 14.0 or greater is required. Get it with \"Microsoft C++ Build Tools\": https://visualstudio.microsoft.com/visual-cpp-build-tools/\n",
      "  ----------------------------------------\n",
      "  ERROR: Failed building wheel for lightfm\n",
      "  ERROR: Command errored out with exit status 1:\n",
      "   command: 'C:\\Users\\islom\\PycharmProjects\\Test_python_and_cpp\\venv\\Scripts\\python.exe' -u -c 'import io, os, sys, setuptools, tokenize; sys.argv[0] = '\"'\"'C:\\\\Users\\\\islom\\\\AppData\\\\Local\\\\Temp\\\\pip-install-d4ipg4wt\\\\lightfm_ae997fb783644c149b3d7180399a0e2b\\\\setup.py'\"'\"'; __file__='\"'\"'C:\\\\Users\\\\islom\\\\AppData\\\\Local\\\\Temp\\\\pip-install-d4ipg4wt\\\\lightfm_ae997fb783644c149b3d7180399a0e2b\\\\setup.py'\"'\"';f = getattr(tokenize, '\"'\"'open'\"'\"', open)(__file__) if os.path.exists(__file__) else io.StringIO('\"'\"'from setuptools import setup; setup()'\"'\"');code = f.read().replace('\"'\"'\\r\\n'\"'\"', '\"'\"'\\n'\"'\"');f.close();exec(compile(code, __file__, '\"'\"'exec'\"'\"'))' clean --all\n",
      "       cwd: C:\\Users\\islom\\AppData\\Local\\Temp\\pip-install-d4ipg4wt\\lightfm_ae997fb783644c149b3d7180399a0e2b\n",
      "  Complete output (5 lines):\n",
      "  Compiling without OpenMP support.\n",
      "  C:\\Users\\islom\\PycharmProjects\\Test_python_and_cpp\\venv\\lib\\site-packages\\setuptools\\dist.py:770: UserWarning: Usage of dash-separated 'description-file' will not be supported in future versions. Please use the underscore name 'description_file' instead\n",
      "    warnings.warn(\n",
      "  running clean\n",
      "  error: [WinError 2] \\u041d\\u0435 \\u0443\\u0434\\u0430\\u0435\\u0442\\u0441\\u044f \\u043d\\u0430\\u0439\\u0442\\u0438 \\u0443\\u043a\\u0430\\u0437\\u0430\\u043d\\u043d\\u044b\\u0439 \\u0444\\u0430\\u0439\\u043b\n",
      "  ----------------------------------------\n",
      "  ERROR: Failed cleaning build dir for lightfm\n",
      "    ERROR: Command errored out with exit status 1:\n",
      "     command: 'C:\\Users\\islom\\PycharmProjects\\Test_python_and_cpp\\venv\\Scripts\\python.exe' -u -c 'import io, os, sys, setuptools, tokenize; sys.argv[0] = '\"'\"'C:\\\\Users\\\\islom\\\\AppData\\\\Local\\\\Temp\\\\pip-install-d4ipg4wt\\\\lightfm_ae997fb783644c149b3d7180399a0e2b\\\\setup.py'\"'\"'; __file__='\"'\"'C:\\\\Users\\\\islom\\\\AppData\\\\Local\\\\Temp\\\\pip-install-d4ipg4wt\\\\lightfm_ae997fb783644c149b3d7180399a0e2b\\\\setup.py'\"'\"';f = getattr(tokenize, '\"'\"'open'\"'\"', open)(__file__) if os.path.exists(__file__) else io.StringIO('\"'\"'from setuptools import setup; setup()'\"'\"');code = f.read().replace('\"'\"'\\r\\n'\"'\"', '\"'\"'\\n'\"'\"');f.close();exec(compile(code, __file__, '\"'\"'exec'\"'\"'))' install --record 'C:\\Users\\islom\\AppData\\Local\\Temp\\pip-record-r0djdboy\\install-record.txt' --single-version-externally-managed --compile --install-headers 'C:\\Users\\islom\\PycharmProjects\\Test_python_and_cpp\\venv\\include\\site\\python3.10\\lightfm'\n",
      "         cwd: C:\\Users\\islom\\AppData\\Local\\Temp\\pip-install-d4ipg4wt\\lightfm_ae997fb783644c149b3d7180399a0e2b\\\n",
      "    Complete output (11 lines):\n",
      "    Compiling without OpenMP support.\n",
      "    C:\\Users\\islom\\PycharmProjects\\Test_python_and_cpp\\venv\\lib\\site-packages\\setuptools\\dist.py:770: UserWarning: Usage of dash-separated 'description-file' will not be supported in future versions. Please use the underscore name 'description_file' instead\n",
      "      warnings.warn(\n",
      "    running install\n",
      "    C:\\Users\\islom\\PycharmProjects\\Test_python_and_cpp\\venv\\lib\\site-packages\\setuptools\\command\\install.py:34: SetuptoolsDeprecationWarning: setup.py install is deprecated. Use build and pip and other standards-based tools.\n",
      "      warnings.warn(\n",
      "    running build\n",
      "    running build_py\n",
      "    running build_ext\n",
      "    building 'lightfm._lightfm_fast_no_openmp' extension\n",
      "    error: Microsoft Visual C++ 14.0 or greater is required. Get it with \"Microsoft C++ Build Tools\": https://visualstudio.microsoft.com/visual-cpp-build-tools/\n",
      "    ----------------------------------------\n",
      "ERROR: Command errored out with exit status 1: 'C:\\Users\\islom\\PycharmProjects\\Test_python_and_cpp\\venv\\Scripts\\python.exe' -u -c 'import io, os, sys, setuptools, tokenize; sys.argv[0] = '\"'\"'C:\\\\Users\\\\islom\\\\AppData\\\\Local\\\\Temp\\\\pip-install-d4ipg4wt\\\\lightfm_ae997fb783644c149b3d7180399a0e2b\\\\setup.py'\"'\"'; __file__='\"'\"'C:\\\\Users\\\\islom\\\\AppData\\\\Local\\\\Temp\\\\pip-install-d4ipg4wt\\\\lightfm_ae997fb783644c149b3d7180399a0e2b\\\\setup.py'\"'\"';f = getattr(tokenize, '\"'\"'open'\"'\"', open)(__file__) if os.path.exists(__file__) else io.StringIO('\"'\"'from setuptools import setup; setup()'\"'\"');code = f.read().replace('\"'\"'\\r\\n'\"'\"', '\"'\"'\\n'\"'\"');f.close();exec(compile(code, __file__, '\"'\"'exec'\"'\"'))' install --record 'C:\\Users\\islom\\AppData\\Local\\Temp\\pip-record-r0djdboy\\install-record.txt' --single-version-externally-managed --compile --install-headers 'C:\\Users\\islom\\PycharmProjects\\Test_python_and_cpp\\venv\\include\\site\\python3.10\\lightfm' Check the logs for full command output.\n",
      "WARNING: You are using pip version 21.3.1; however, version 22.3.1 is available.\n",
      "You should consider upgrading via the 'C:\\Users\\islom\\PycharmProjects\\Test_python_and_cpp\\venv\\Scripts\\python.exe -m pip install --upgrade pip' command.\n"
     ]
    }
   ],
   "source": [
    "!pip install lightfm"
   ]
  },
  {
   "cell_type": "code",
   "execution_count": 8,
   "outputs": [
    {
     "ename": "ModuleNotFoundError",
     "evalue": "No module named 'lightfm'",
     "output_type": "error",
     "traceback": [
      "\u001B[1;31m---------------------------------------------------------------------------\u001B[0m",
      "\u001B[1;31mModuleNotFoundError\u001B[0m                       Traceback (most recent call last)",
      "Cell \u001B[1;32mIn[8], line 2\u001B[0m\n\u001B[0;32m      1\u001B[0m \u001B[38;5;28;01mimport\u001B[39;00m \u001B[38;5;21;01mnumpy\u001B[39;00m \u001B[38;5;28;01mas\u001B[39;00m \u001B[38;5;21;01mnp\u001B[39;00m\n\u001B[1;32m----> 2\u001B[0m \u001B[38;5;28;01mfrom\u001B[39;00m \u001B[38;5;21;01mlightfm\u001B[39;00m\u001B[38;5;21;01m.\u001B[39;00m\u001B[38;5;21;01mdatasets\u001B[39;00m \u001B[38;5;28;01mimport\u001B[39;00m fetch_movielens\n\u001B[0;32m      3\u001B[0m data \u001B[38;5;241m=\u001B[39m fetch_movielens()\n",
      "\u001B[1;31mModuleNotFoundError\u001B[0m: No module named 'lightfm'"
     ]
    }
   ],
   "source": [
    "import numpy as np\n",
    "from lightfm.datasets import fetch_movielens\n",
    "data = fetch_movielens()"
   ],
   "metadata": {
    "collapsed": false
   }
  },
  {
   "cell_type": "code",
   "execution_count": 9,
   "outputs": [
    {
     "ename": "NameError",
     "evalue": "name 'data' is not defined",
     "output_type": "error",
     "traceback": [
      "\u001B[1;31m---------------------------------------------------------------------------\u001B[0m",
      "\u001B[1;31mNameError\u001B[0m                                 Traceback (most recent call last)",
      "Cell \u001B[1;32mIn[9], line 1\u001B[0m\n\u001B[1;32m----> 1\u001B[0m \u001B[38;5;28;01mfor\u001B[39;00m key, value \u001B[38;5;129;01min\u001B[39;00m \u001B[43mdata\u001B[49m\u001B[38;5;241m.\u001B[39mitems():\n\u001B[0;32m      2\u001B[0m     \u001B[38;5;28mprint\u001B[39m(key, value\u001B[38;5;241m.\u001B[39mshape)\n",
      "\u001B[1;31mNameError\u001B[0m: name 'data' is not defined"
     ]
    }
   ],
   "source": [
    "for key, value in data.items():\n",
    "    print(key, value.shape)"
   ],
   "metadata": {
    "collapsed": false
   }
  },
  {
   "cell_type": "code",
   "execution_count": 10,
   "outputs": [
    {
     "ename": "NameError",
     "evalue": "name 'data' is not defined",
     "output_type": "error",
     "traceback": [
      "\u001B[1;31m---------------------------------------------------------------------------\u001B[0m",
      "\u001B[1;31mNameError\u001B[0m                                 Traceback (most recent call last)",
      "Cell \u001B[1;32mIn[10], line 1\u001B[0m\n\u001B[1;32m----> 1\u001B[0m train \u001B[38;5;241m=\u001B[39m \u001B[43mdata\u001B[49m[\u001B[38;5;124m'\u001B[39m\u001B[38;5;124mtrain\u001B[39m\u001B[38;5;124m'\u001B[39m]\n\u001B[0;32m      2\u001B[0m test \u001B[38;5;241m=\u001B[39m data[\u001B[38;5;124m'\u001B[39m\u001B[38;5;124mtest\u001B[39m\u001B[38;5;124m'\u001B[39m]\n",
      "\u001B[1;31mNameError\u001B[0m: name 'data' is not defined"
     ]
    }
   ],
   "source": [
    "train = data['train']\n",
    "test = data['test']"
   ],
   "metadata": {
    "collapsed": false
   }
  },
  {
   "cell_type": "code",
   "execution_count": null,
   "outputs": [],
   "source": [
    "from lightfm import LightFM\n",
    "model = LightFM(learning_rate=0.05, loss='bpr')\n",
    "model.fit(train, epochs=10)"
   ],
   "metadata": {
    "collapsed": false,
    "pycharm": {
     "is_executing": true
    }
   }
  },
  {
   "cell_type": "code",
   "execution_count": 1,
   "outputs": [
    {
     "ename": "ModuleNotFoundError",
     "evalue": "No module named 'lightfm'",
     "output_type": "error",
     "traceback": [
      "\u001B[1;31m---------------------------------------------------------------------------\u001B[0m",
      "\u001B[1;31mModuleNotFoundError\u001B[0m                       Traceback (most recent call last)",
      "Cell \u001B[1;32mIn[1], line 1\u001B[0m\n\u001B[1;32m----> 1\u001B[0m \u001B[38;5;28;01mfrom\u001B[39;00m \u001B[38;5;21;01mlightfm\u001B[39;00m\u001B[38;5;21;01m.\u001B[39;00m\u001B[38;5;21;01mevaluation\u001B[39;00m \u001B[38;5;28;01mimport\u001B[39;00m precision_at_k, auc_score\n\u001B[0;32m      2\u001B[0m train_precision \u001B[38;5;241m=\u001B[39m precision_at_k(model, train, k\u001B[38;5;241m=\u001B[39m\u001B[38;5;241m10\u001B[39m)\u001B[38;5;241m.\u001B[39mmean()\n\u001B[0;32m      3\u001B[0m test_precision \u001B[38;5;241m=\u001B[39m precision_at_k(model, test, k\u001B[38;5;241m=\u001B[39m\u001B[38;5;241m10\u001B[39m, train_interactions\u001B[38;5;241m=\u001B[39mtrain)\u001B[38;5;241m.\u001B[39mmean()\n",
      "\u001B[1;31mModuleNotFoundError\u001B[0m: No module named 'lightfm'"
     ]
    }
   ],
   "source": [
    "from lightfm.evaluation import precision_at_k, auc_score\n",
    "train_precision = precision_at_k(model, train, k=10).mean()\n",
    "test_precision = precision_at_k(model, test, k=10, train_interactions=train).mean()\n",
    "train_auc = auc_score(model, train).mean()\n",
    "test_auc = auc_score(model, test, train_interactions=train).mean()\n",
    "print('Precision: train %.2f, test %.2f.' % (train_precision, test_precision))\n",
    "print('AUC: train %.2f, test %.2f.' % (train_auc, test_auc))"
   ],
   "metadata": {
    "collapsed": false
   }
  },
  {
   "cell_type": "code",
   "execution_count": null,
   "outputs": [],
   "source": [
    "model = LightFM(learning_rate=0.05, loss='warp')\n",
    "model.fit_partial(train, epochs=10)"
   ],
   "metadata": {
    "collapsed": false
   }
  },
  {
   "cell_type": "code",
   "execution_count": 2,
   "outputs": [
    {
     "ename": "NameError",
     "evalue": "name 'precision_at_k' is not defined",
     "output_type": "error",
     "traceback": [
      "\u001B[1;31m---------------------------------------------------------------------------\u001B[0m",
      "\u001B[1;31mNameError\u001B[0m                                 Traceback (most recent call last)",
      "Cell \u001B[1;32mIn[2], line 1\u001B[0m\n\u001B[1;32m----> 1\u001B[0m train_precision \u001B[38;5;241m=\u001B[39m \u001B[43mprecision_at_k\u001B[49m(model, train, k\u001B[38;5;241m=\u001B[39m\u001B[38;5;241m10\u001B[39m)\u001B[38;5;241m.\u001B[39mmean()\n\u001B[0;32m      2\u001B[0m test_precision \u001B[38;5;241m=\u001B[39m precision_at_k(model, test, k\u001B[38;5;241m=\u001B[39m\u001B[38;5;241m10\u001B[39m, train_interactions\u001B[38;5;241m=\u001B[39mtrain)\u001B[38;5;241m.\u001B[39mmean()\n\u001B[0;32m      3\u001B[0m train_auc \u001B[38;5;241m=\u001B[39m auc_score(model, train)\u001B[38;5;241m.\u001B[39mmean()\n",
      "\u001B[1;31mNameError\u001B[0m: name 'precision_at_k' is not defined"
     ]
    }
   ],
   "source": [
    "train_precision = precision_at_k(model, train, k=10).mean()\n",
    "test_precision = precision_at_k(model, test, k=10, train_interactions=train).mean()\n",
    "train_auc = auc_score(model, train).mean()\n",
    "test_auc = auc_score(model, test, train_interactions=train).mean()\n",
    "print('Precision: train %.2f, test %.2f.' % (train_precision, test_precision))\n",
    "print('AUC: train %.2f, test %.2f.' % (train_auc, test_auc))"
   ],
   "metadata": {
    "collapsed": false
   }
  },
  {
   "cell_type": "code",
   "execution_count": null,
   "outputs": [],
   "source": [],
   "metadata": {
    "collapsed": false
   }
  }
 ],
 "metadata": {
  "kernelspec": {
   "display_name": "Python 3",
   "language": "python",
   "name": "python3"
  },
  "language_info": {
   "codemirror_mode": {
    "name": "ipython",
    "version": 2
   },
   "file_extension": ".py",
   "mimetype": "text/x-python",
   "name": "python",
   "nbconvert_exporter": "python",
   "pygments_lexer": "ipython2",
   "version": "2.7.6"
  }
 },
 "nbformat": 4,
 "nbformat_minor": 0
}
